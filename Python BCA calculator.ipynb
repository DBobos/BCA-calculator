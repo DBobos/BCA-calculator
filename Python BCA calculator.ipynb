{
  "cells": [
    {
      "cell_type": "markdown",
      "id": "db8fe629-adf8-493c-9609-83ad53fa5d34",
      "metadata": {
        "id": "db8fe629-adf8-493c-9609-83ad53fa5d34"
      },
      "source": [
        "<h1 style=\"font-size:3rem;color:blue;\" >BCA Calculator</h1>"
      ]
    },
    {
      "cell_type": "markdown",
      "source": [
        "# How to use:\n",
        "\n",
        "\n",
        "1.   on the 1st question Do you  know the dye amount? answer no or it breaks\n",
        "2.   If you want to calculate the dye amount answer yes, or no if you want a specific dye amount\n",
        "\n",
        "# Info\n",
        "\n",
        "1.  with known dye total = dye + total protein amount\n",
        "2.   dye  is calculated as: total protein amount * 4 / 3\n",
        "\n",
        "\n",
        "\n"
      ],
      "metadata": {
        "id": "TohnbLOgbGW_"
      },
      "id": "TohnbLOgbGW_"
    },
    {
      "cell_type": "code",
      "execution_count": 3,
      "id": "fc5ff800-1e0f-4d5b-9145-84de638e4dc9",
      "metadata": {
        "colab": {
          "base_uri": "https://localhost:8080/",
          "height": 842
        },
        "id": "fc5ff800-1e0f-4d5b-9145-84de638e4dc9",
        "outputId": "48d8b9b7-3a25-40ee-c994-a08028177f4e"
      },
      "outputs": [
        {
          "name": "stdout",
          "output_type": "stream",
          "text": [
            "Enter the amount of protein per μL eg. 20 for 20μg/μL protein : 30\n",
            "Do you  know the dye amount? (yes/no): no\n",
            "Do you  want to calculate the dye amount? (yes/no): yes\n",
            "Enter the Concentration μg/μl protein : 1.01\n",
            "your protein per: 30.0 \n",
            "μg/μL is: 29.702970297029704\n",
            "The minimum value of Total that satisfies the inequality is: 40\n",
            "The minimum rounded up value of Total that satisfies the inequality is: 40\n",
            "The dye amount is: 10.0\n",
            "Do you  know the dye amount? (yes/no): yes\n",
            "Enter the Concentration μg/μl protein : 1.02\n",
            "your protein per: 30.0 \n",
            "μg/μL is: 29.41176470588235\n",
            "The minimum value of Total that satisfies the inequality is: 39.41176470588235\n",
            "The minimum rounded up value of Total that satisfies the inequality is: 40\n",
            "Do you  know the dye amount? (yes/no): yes\n",
            "Enter the Concentration μg/μl protein : 3\n",
            "your protein per: 30.0 \n",
            "μg/μL is: 10.0\n",
            "The minimum value of Total that satisfies the inequality is: 20.0\n",
            "The minimum rounded up value of Total that satisfies the inequality is: 20\n",
            "Do you  know the dye amount? (yes/no): y\n",
            "Enter the Concentration μg/μl protein : 5\n",
            "your protein per: 30.0 \n",
            "μg/μL is: 6.0\n",
            "The minimum value of Total that satisfies the inequality is: 16.0\n",
            "The minimum rounded up value of Total that satisfies the inequality is: 16\n",
            "Do you  know the dye amount? (yes/no): y\n"
          ]
        },
        {
          "output_type": "error",
          "ename": "KeyboardInterrupt",
          "evalue": "Interrupted by user",
          "traceback": [
            "\u001b[0;31m---------------------------------------------------------------------------\u001b[0m",
            "\u001b[0;31mKeyboardInterrupt\u001b[0m                         Traceback (most recent call last)",
            "\u001b[0;32m<ipython-input-3-1b541b3444da>\u001b[0m in \u001b[0;36m<cell line: 0>\u001b[0;34m()\u001b[0m\n\u001b[1;32m     49\u001b[0m     \u001b[0muser_input\u001b[0m \u001b[0;34m=\u001b[0m \u001b[0minput\u001b[0m\u001b[0;34m(\u001b[0m\u001b[0;34m\"Do you  know the dye amount? (yes/no): \"\u001b[0m\u001b[0;34m)\u001b[0m\u001b[0;34m\u001b[0m\u001b[0;34m\u001b[0m\u001b[0m\n\u001b[1;32m     50\u001b[0m     \u001b[0;32mif\u001b[0m \u001b[0muser_input\u001b[0m\u001b[0;34m.\u001b[0m\u001b[0mlower\u001b[0m\u001b[0;34m(\u001b[0m\u001b[0;34m)\u001b[0m \u001b[0;32min\u001b[0m \u001b[0;34m[\u001b[0m\u001b[0;34m\"yes\"\u001b[0m\u001b[0;34m,\u001b[0m \u001b[0;34m\"y\"\u001b[0m\u001b[0;34m]\u001b[0m\u001b[0;34m:\u001b[0m\u001b[0;34m\u001b[0m\u001b[0;34m\u001b[0m\u001b[0m\n\u001b[0;32m---> 51\u001b[0;31m         \u001b[0my\u001b[0m \u001b[0;34m=\u001b[0m \u001b[0minput\u001b[0m\u001b[0;34m(\u001b[0m\u001b[0;34m\"Enter the Concentration μg/μl protein : \"\u001b[0m\u001b[0;34m)\u001b[0m\u001b[0;34m\u001b[0m\u001b[0;34m\u001b[0m\u001b[0m\n\u001b[0m\u001b[1;32m     52\u001b[0m         \u001b[0my\u001b[0m \u001b[0;34m=\u001b[0m \u001b[0mget_concentration\u001b[0m\u001b[0;34m(\u001b[0m\u001b[0mconcentration\u001b[0m\u001b[0;34m,\u001b[0m \u001b[0mfloat\u001b[0m\u001b[0;34m(\u001b[0m\u001b[0my\u001b[0m\u001b[0;34m)\u001b[0m\u001b[0;34m)\u001b[0m\u001b[0;34m\u001b[0m\u001b[0;34m\u001b[0m\u001b[0m\n\u001b[1;32m     53\u001b[0m         \u001b[0mprint\u001b[0m\u001b[0;34m(\u001b[0m\u001b[0;34mf\"your protein per: {concentration} \"\u001b[0m\u001b[0;34m)\u001b[0m\u001b[0;34m\u001b[0m\u001b[0;34m\u001b[0m\u001b[0m\n",
            "\u001b[0;32m/usr/local/lib/python3.11/dist-packages/ipykernel/kernelbase.py\u001b[0m in \u001b[0;36mraw_input\u001b[0;34m(self, prompt)\u001b[0m\n\u001b[1;32m    849\u001b[0m                 \u001b[0;34m\"raw_input was called, but this frontend does not support input requests.\"\u001b[0m\u001b[0;34m\u001b[0m\u001b[0;34m\u001b[0m\u001b[0m\n\u001b[1;32m    850\u001b[0m             )\n\u001b[0;32m--> 851\u001b[0;31m         return self._input_request(str(prompt),\n\u001b[0m\u001b[1;32m    852\u001b[0m             \u001b[0mself\u001b[0m\u001b[0;34m.\u001b[0m\u001b[0m_parent_ident\u001b[0m\u001b[0;34m,\u001b[0m\u001b[0;34m\u001b[0m\u001b[0;34m\u001b[0m\u001b[0m\n\u001b[1;32m    853\u001b[0m             \u001b[0mself\u001b[0m\u001b[0;34m.\u001b[0m\u001b[0m_parent_header\u001b[0m\u001b[0;34m,\u001b[0m\u001b[0;34m\u001b[0m\u001b[0;34m\u001b[0m\u001b[0m\n",
            "\u001b[0;32m/usr/local/lib/python3.11/dist-packages/ipykernel/kernelbase.py\u001b[0m in \u001b[0;36m_input_request\u001b[0;34m(self, prompt, ident, parent, password)\u001b[0m\n\u001b[1;32m    893\u001b[0m             \u001b[0;32mexcept\u001b[0m \u001b[0mKeyboardInterrupt\u001b[0m\u001b[0;34m:\u001b[0m\u001b[0;34m\u001b[0m\u001b[0;34m\u001b[0m\u001b[0m\n\u001b[1;32m    894\u001b[0m                 \u001b[0;31m# re-raise KeyboardInterrupt, to truncate traceback\u001b[0m\u001b[0;34m\u001b[0m\u001b[0;34m\u001b[0m\u001b[0m\n\u001b[0;32m--> 895\u001b[0;31m                 \u001b[0;32mraise\u001b[0m \u001b[0mKeyboardInterrupt\u001b[0m\u001b[0;34m(\u001b[0m\u001b[0;34m\"Interrupted by user\"\u001b[0m\u001b[0;34m)\u001b[0m \u001b[0;32mfrom\u001b[0m \u001b[0;32mNone\u001b[0m\u001b[0;34m\u001b[0m\u001b[0;34m\u001b[0m\u001b[0m\n\u001b[0m\u001b[1;32m    896\u001b[0m             \u001b[0;32mexcept\u001b[0m \u001b[0mException\u001b[0m \u001b[0;32mas\u001b[0m \u001b[0me\u001b[0m\u001b[0;34m:\u001b[0m\u001b[0;34m\u001b[0m\u001b[0;34m\u001b[0m\u001b[0m\n\u001b[1;32m    897\u001b[0m                 \u001b[0mself\u001b[0m\u001b[0;34m.\u001b[0m\u001b[0mlog\u001b[0m\u001b[0;34m.\u001b[0m\u001b[0mwarning\u001b[0m\u001b[0;34m(\u001b[0m\u001b[0;34m\"Invalid Message:\"\u001b[0m\u001b[0;34m,\u001b[0m \u001b[0mexc_info\u001b[0m\u001b[0;34m=\u001b[0m\u001b[0;32mTrue\u001b[0m\u001b[0;34m)\u001b[0m\u001b[0;34m\u001b[0m\u001b[0;34m\u001b[0m\u001b[0m\n",
            "\u001b[0;31mKeyboardInterrupt\u001b[0m: Interrupted by user"
          ]
        }
      ],
      "source": [
        "from sympy import symbols, solve\n",
        "import math\n",
        "\n",
        "################# find the minimum dye amount and solve ######################################################\n",
        "def find_x_1st(y):\n",
        "    # Rearranging the inequality: x > 4y / 3\n",
        "    return (4 * y) / 3\n",
        "\n",
        "\n",
        "################# find solving for Total given the dye amount ######################################################\n",
        "def find_x(y, dye):\n",
        "    # Rearranging the inequality: x > f + y\n",
        "    return dye + y\n",
        "\n",
        "\n",
        "def get_concentration(protein,y):\n",
        "    return protein / y\n",
        "\n",
        "\n",
        "\n",
        "concentration = input(\"Enter the amount of protein per μL eg. 20 for 20μg/μL protein : \")\n",
        "concentration = float(concentration)\n",
        "###### BCA Calculating  ################\n",
        "while True:\n",
        "    user_input = input(\"Do you  know the dye amount? (yes/no): \")\n",
        "    if user_input.lower() in [\"yes\", \"y\"]:\n",
        "        y = input(\"Enter the Concentration μg/μl protein : \")\n",
        "        y = get_concentration(concentration, float(y))\n",
        "        print(f\"your protein per: {concentration} \")\n",
        "        print(f\"μg/μL is: {y}\")\n",
        "        x_min_2_original = find_x(y, dye)\n",
        "        x_min_2 = math.ceil(find_x(y, dye))\n",
        "        print(f\"The minimum value of Total that satisfies the inequality is: {x_min_2_original}\")\n",
        "        print(f\"The minimum rounded up value of Total that satisfies the inequality is: {x_min_2}\")\n",
        "    elif user_input.lower() in [\"no\", \"n\"]:\n",
        "        user_input = input(\"Do you  want to calculate the dye amount? (yes/no): \")\n",
        "        if user_input.lower() in [\"yes\", \"y\"]:\n",
        "            y = input(\"Enter the Concentration μg/μl protein : \")\n",
        "            y = get_concentration(concentration, float(y))\n",
        "            print(f\"your protein per: {concentration} \")\n",
        "            print(f\"μg/μL is: {y}\")\n",
        "            x_min_original = find_x_1st(y)\n",
        "            x_min = math.ceil(find_x_1st(y))\n",
        "            print(f\"The minimum value of Total that satisfies the inequality is: {x_min}\")\n",
        "            print(f\"The minimum rounded up value of Total that satisfies the inequality is: {x_min}\")\n",
        "            dye = x_min / 4\n",
        "            print(f\"The dye amount is: {dye}\")\n",
        "        elif user_input.lower() in [\"no\", \"n\"]:\n",
        "            dye =float(input(\"Enter the amount for dye : \"))\n",
        "            print(f\"dye is set to {dye}\")"
      ]
    }
  ],
  "metadata": {
    "kernelspec": {
      "display_name": "Python [conda env:base] *",
      "language": "python",
      "name": "conda-base-py"
    },
    "language_info": {
      "codemirror_mode": {
        "name": "ipython",
        "version": 3
      },
      "file_extension": ".py",
      "mimetype": "text/x-python",
      "name": "python",
      "nbconvert_exporter": "python",
      "pygments_lexer": "ipython3",
      "version": "3.9.21"
    },
    "colab": {
      "provenance": []
    }
  },
  "nbformat": 4,
  "nbformat_minor": 5
}