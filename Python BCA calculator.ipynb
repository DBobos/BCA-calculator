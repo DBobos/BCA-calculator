{
  "cells": [
    {
      "cell_type": "markdown",
      "metadata": {
        "id": "view-in-github",
        "colab_type": "text"
      },
      "source": [
        "<a href=\"https://colab.research.google.com/github/DBobos/BCA-calculator/blob/main/Python%20BCA%20calculator.ipynb\" target=\"_parent\"><img src=\"https://colab.research.google.com/assets/colab-badge.svg\" alt=\"Open In Colab\"/></a>"
      ]
    },
    {
      "cell_type": "markdown",
      "id": "db8fe629-adf8-493c-9609-83ad53fa5d34",
      "metadata": {
        "id": "db8fe629-adf8-493c-9609-83ad53fa5d34"
      },
      "source": [
        "<h1 style=\"font-size:3rem;color:blue;\" >BCA Calculator</h1>"
      ]
    },
    {
      "cell_type": "code",
      "execution_count": null,
      "id": "fc5ff800-1e0f-4d5b-9145-84de638e4dc9",
      "metadata": {
        "id": "fc5ff800-1e0f-4d5b-9145-84de638e4dc9",
        "outputId": "5258f2d0-2309-4400-cbaf-7c7a0d24f42c"
      },
      "outputs": [
        {
          "name": "stdin",
          "output_type": "stream",
          "text": [
            "Do you  know the dye amount? (yes/no):  no\n",
            "Do you  want to calculate the dye amount? (yes/no):  yes\n",
            "Enter the first row for amount for 30μg/μL protein :  13\n"
          ]
        },
        {
          "name": "stdout",
          "output_type": "stream",
          "text": [
            "The minimum rounded up value of Total that satisfies the inequality is: 18\n",
            "The dye amount is: 4.5\n"
          ]
        },
        {
          "name": "stdin",
          "output_type": "stream",
          "text": [
            "Do you  know the dye amount? (yes/no):  y\n",
            "Enter the amount for 30μg/μL protein :  15\n"
          ]
        },
        {
          "name": "stdout",
          "output_type": "stream",
          "text": [
            "The minimum rounded up value of Total that satisfies the inequality is: 20\n"
          ]
        }
      ],
      "source": [
        "from sympy import symbols, solve\n",
        "import math\n",
        "\n",
        "################# find the minimum dye amount and solve ######################################################\n",
        "def find_x_1st(y):\n",
        "    # Rearranging the inequality: x > 4y / 3\n",
        "    return (4 * y) / 3\n",
        "\n",
        "\n",
        "################# find solving for Total given the dye amount ######################################################\n",
        "def find_x(y, dye):\n",
        "    # Rearranging the inequality: x > f + y\n",
        "    return dye + y\n",
        "\n",
        "\n",
        "def get_concentration(protein,y):\n",
        "    return protein / y\n",
        "# asking for 30μg/μL protein\n",
        "# y = input(\"Enter the amount for 30μg/μL protein : \")\n",
        "# y = float(y)\n",
        "  # You can change this value\n",
        "\n",
        "# x_min = math.ceil(find_x_1st(y))\n",
        "# print(f\"The minimum rounded up value of Total that satisfies the inequality is: {x_min}\")\n",
        "\n",
        "\n",
        "#### set dye amount is Total / 4 ########################\n",
        "\n",
        "# dye = x_min / 4\n",
        "# print(f\"The dye amount is: {dye}\")\n",
        "\n",
        "###### change if dye amount has to be different ################\n",
        "# while True:\n",
        "#     user_input = input(\"Do you want to change the dye amount calculated? {dye}? (yes/no): \")\n",
        "#     if user_input.lower() in [\"yes\", \"y\"]:\n",
        "#         dye= int(input(\"Enter the dye amount : \"))\n",
        "\n",
        "#         break\n",
        "#     elif user_input.lower() in [\"no\", \"n\"]:\n",
        "#         break\n",
        "#     else:\n",
        "#         print(\"Invalid input. Please enter yes/no.\")\n",
        "\n",
        "\n",
        "concentration = input(\"Enter the amount of protein per μL eg. 20 for 20μg/μL protein : \")\n",
        "concentration = float(concentration)\n",
        "###### BCA Calculating  ################\n",
        "while True:\n",
        "    user_input = input(\"Do you  know the dye amount? (yes/no): \")\n",
        "    if user_input.lower() in [\"yes\", \"y\"]:\n",
        "        y = input(\"Enter the Concentration μg/μl protein : \")\n",
        "        y = get_concentration(concentration, float(y))\n",
        "        print(f\"your protein per: {concentration} \")\n",
        "        print(f\"μg/μL is: {y}\")\n",
        "        x_min_2_original = find_x(y, dye)\n",
        "        x_min_2 = math.ceil(find_x(y, dye))\n",
        "        print(f\"The minimum value of Total that satisfies the inequality is: {x_min_2_original}\")\n",
        "        print(f\"The minimum rounded up value of Total that satisfies the inequality is: {x_min_2}\")\n",
        "        user_input = input(\"Do you want to continue? (yes/no): \")\n",
        "        if user_input.lower() in [\"yes\", \"y\"]:\n",
        "            pass\n",
        "        elif user_input.lower() in [\"no\", \"n\"]:\n",
        "          exit()\n",
        "    elif user_input.lower() in [\"no\", \"n\"]:\n",
        "        user_input = input(\"Do you  want to calculate the dye amount? (yes/no): \")\n",
        "        if user_input.lower() in [\"yes\", \"y\"]:\n",
        "            y = input(\"Enter the Concentration μg/μl protein : \")\n",
        "            y = get_concentration(concentration, float(y))\n",
        "            print(f\"your protein per: {concentration} \")\n",
        "            print(f\"μg/μL is: {y}\")\n",
        "            x_min_original = find_x_1st(y)\n",
        "            x_min = math.ceil(find_x_1st(y))\n",
        "            print(f\"The minimum value of Total that satisfies the inequality is: {x_min}\")\n",
        "            print(f\"The minimum rounded up value of Total that satisfies the inequality is: {x_min}\")\n",
        "            dye = x_min / 4\n",
        "            print(f\"The dye amount is: {dye}\")\n",
        "        elif user_input.lower() in [\"no\", \"n\"]:\n",
        "            dye =float(input(\"Enter the amount for dye : \"))\n",
        "            print(f\"dye is set to {dye}\")"
      ]
    },
    {
      "cell_type": "code",
      "execution_count": null,
      "id": "1115df80-e93e-4b43-ab22-429000c48791",
      "metadata": {
        "id": "1115df80-e93e-4b43-ab22-429000c48791"
      },
      "outputs": [],
      "source": []
    },
    {
      "cell_type": "code",
      "execution_count": null,
      "id": "1fb7ad4e-69fe-4ae9-a4a7-2ad7c4c49c79",
      "metadata": {
        "id": "1fb7ad4e-69fe-4ae9-a4a7-2ad7c4c49c79"
      },
      "outputs": [],
      "source": []
    }
  ],
  "metadata": {
    "kernelspec": {
      "display_name": "Python [conda env:base] *",
      "language": "python",
      "name": "conda-base-py"
    },
    "language_info": {
      "codemirror_mode": {
        "name": "ipython",
        "version": 3
      },
      "file_extension": ".py",
      "mimetype": "text/x-python",
      "name": "python",
      "nbconvert_exporter": "python",
      "pygments_lexer": "ipython3",
      "version": "3.9.21"
    },
    "colab": {
      "provenance": [],
      "include_colab_link": true
    }
  },
  "nbformat": 4,
  "nbformat_minor": 5
}