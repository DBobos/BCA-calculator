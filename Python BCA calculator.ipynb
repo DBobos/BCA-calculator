{
 "cells": [
  {
   "cell_type": "markdown",
   "id": "db8fe629-adf8-493c-9609-83ad53fa5d34",
   "metadata": {},
   "source": [
    "<h1 style=\"font-size:3rem;color:blue;\" >BCA Calculator</h1>"
   ]
  },
  {
   "cell_type": "code",
   "execution_count": null,
   "id": "fc5ff800-1e0f-4d5b-9145-84de638e4dc9",
   "metadata": {},
   "outputs": [
    {
     "name": "stdin",
     "output_type": "stream",
     "text": [
      "Do you  know the dye amount? (yes/no):  no\n",
      "Do you  want to calculate the dye amount? (yes/no):  yes\n",
      "Enter the first row for amount for 30μg/μL protein :  13\n"
     ]
    },
    {
     "name": "stdout",
     "output_type": "stream",
     "text": [
      "The minimum rounded up value of Total that satisfies the inequality is: 18\n",
      "The dye amount is: 4.5\n"
     ]
    },
    {
     "name": "stdin",
     "output_type": "stream",
     "text": [
      "Do you  know the dye amount? (yes/no):  y\n",
      "Enter the amount for 30μg/μL protein :  15\n"
     ]
    },
    {
     "name": "stdout",
     "output_type": "stream",
     "text": [
      "The minimum rounded up value of Total that satisfies the inequality is: 20\n"
     ]
    }
   ],
   "source": [
    "from sympy import symbols, solve\n",
    "import math\n",
    "def find_x_1st(y):\n",
    "    # Rearranging the inequality: x > 4y / 3\n",
    "    return (4 * y) / 3\n",
    "\n",
    "\n",
    "################# find solving for Total given the dye amount ###################################################### \n",
    "def find_x(y, dye):\n",
    "    # Rearranging the inequality: x > f + y\n",
    "    return dye + y\n",
    "while True:\n",
    "    user_input = input(\"Do you  know the dye amount? (yes/no): \")\n",
    "    if user_input.lower() in [\"yes\", \"y\"]:\n",
    "        y = input(\"Enter the amount for 30μg/μL protein : \")\n",
    "        y = float(y)\n",
    "        x_min_2 = math.ceil(find_x(y, dye))\n",
    "        print(f\"The minimum rounded up value of Total that satisfies the inequality is: {x_min_2}\")\n",
    "        user_input = input(\"Do you want to continue? (yes/no): \")\n",
    "        if user_input.lower() in [\"yes\", \"y\"]:\n",
    "            pass\n",
    "        elif user_input.lower() in [\"no\", \"n\"]:\n",
    "          exit()\n",
    "    elif user_input.lower() in [\"no\", \"n\"]:\n",
    "        user_input = input(\"Do you  want to calculate the dye amount? (yes/no): \")\n",
    "        if user_input.lower() in [\"yes\", \"y\"]:\n",
    "            y = input(\"Enter the first row for amount for 30μg/μL protein : \")\n",
    "            y = float(y)\n",
    "            x_min = math.ceil(find_x_1st(y))\n",
    "            print(f\"The minimum rounded up value of Total that satisfies the inequality is: {x_min}\")\n",
    "            dye = x_min / 4\n",
    "            print(f\"The dye amount is: {dye}\")\n",
    "        elif user_input.lower() in [\"no\", \"n\"]:\n",
    "            dye =float(input(\"Enter the amount for dye : \"))\n",
    "            print(f\"dye is set to {dye}\")"
   ]
  },
  {
   "cell_type": "code",
   "execution_count": null,
   "id": "1115df80-e93e-4b43-ab22-429000c48791",
   "metadata": {},
   "outputs": [],
   "source": []
  },
  {
   "cell_type": "code",
   "execution_count": null,
   "id": "1fb7ad4e-69fe-4ae9-a4a7-2ad7c4c49c79",
   "metadata": {},
   "outputs": [],
   "source": []
  }
 ],
 "metadata": {
  "kernelspec": {
   "display_name": "Python [conda env:base] *",
   "language": "python",
   "name": "conda-base-py"
  },
  "language_info": {
   "codemirror_mode": {
    "name": "ipython",
    "version": 3
   },
   "file_extension": ".py",
   "mimetype": "text/x-python",
   "name": "python",
   "nbconvert_exporter": "python",
   "pygments_lexer": "ipython3",
   "version": "3.9.21"
  }
 },
 "nbformat": 4,
 "nbformat_minor": 5
}
